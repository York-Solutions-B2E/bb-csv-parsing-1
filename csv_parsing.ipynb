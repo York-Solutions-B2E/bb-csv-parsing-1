{
 "cells": [
  {
   "cell_type": "code",
   "execution_count": 39,
   "metadata": {},
   "outputs": [],
   "source": [
    "import csv\n",
    "import numpy as np"
   ]
  },
  {
   "cell_type": "code",
   "execution_count": 32,
   "metadata": {},
   "outputs": [],
   "source": [
    "class IndustryModel:\n",
    "    def __init__(self,industry,subindustry,total_revenue):\n",
    "        self.industry = industry\n",
    "        self.subindustry = subindustry\n",
    "        self.total_revenue = total_revenue\n",
    "    def __str__(self):\n",
    "        return self.industry + \" : \" + self.subindustry + \" $\" + str(self.total_revenue)"
   ]
  },
  {
   "cell_type": "code",
   "execution_count": 33,
   "metadata": {},
   "outputs": [],
   "source": [
    "industries = []\n",
    "with open('data.csv','r') as csv_file:\n",
    "    reader = csv.reader(csv_file)\n",
    "    line_count = 0\n",
    "    for row in reader:\n",
    "        if line_count != 0:\n",
    "            rowModel = IndustryModel(row[0],row[1],int(row[2]))\n",
    "            industries.append(rowModel)\n",
    "        line_count += 1"
   ]
  },
  {
   "cell_type": "code",
   "execution_count": 34,
   "metadata": {},
   "outputs": [
    {
     "name": "stdout",
     "output_type": "stream",
     "text": [
      "Manufacturing : Consumer Electronics & Computers Retail $86153757\n",
      "Retail : Automobile Dealers $56803298\n",
      "Retail : Grocery Retail $54269326\n",
      "Retail : Department Stores, Shopping Centers & Superstores $43550263\n",
      "Retail : Apparel & Accessories Retail $20639533\n",
      "Retail : Flowers, Gifts & Specialty Stores $17827120\n",
      "Manufacturing : Automobile Dealers $15383793\n",
      "Retail : Home Improvement & Hardware Retail $8162494\n",
      "Retail : Vitamins, Supplements & Health Stores $5895492\n",
      "Retail : Pet Products $5630498\n",
      "Manufacturing : Toys & Games $5298149\n",
      "Business Services : Automobile Dealers $4464523\n",
      "Retail : Sporting & Recreational Equipment Retail $3342220\n",
      "Retail : Furniture $3189395\n",
      "Construction : Grocery Retail $2962846\n",
      "Manufacturing : Flowers, Gifts & Specialty Stores $2590605\n",
      "Manufacturing : Furniture $2391198\n",
      "Manufacturing : Jewelry & Watch Retail $1846751\n",
      "Construction : Home Improvement & Hardware Retail $1785388\n",
      "Agriculture : Grocery Retail $1672833\n",
      "Consumer Services : Automobile Dealers $1554750\n",
      "Retail : Convenience Stores, Gas Stations & Liquor Stores $1228061\n",
      "Retail : Jewelry & Watch Retail $1125772\n",
      "Manufacturing : Home Improvement & Hardware Retail $735383\n",
      "Government : Grocery Retail $728379\n",
      "Retail :  $544569\n",
      "Construction : Automobile Dealers $430870\n"
     ]
    }
   ],
   "source": [
    "for industry in industries:\n",
    "    print(industry)"
   ]
  },
  {
   "cell_type": "code",
   "execution_count": 43,
   "metadata": {},
   "outputs": [
    {
     "name": "stdout",
     "output_type": "stream",
     "text": [
      "[86153757 56803298 54269326 43550263 20639533 17827120 15383793  8162494\n",
      "  5895492  5630498  5298149  4464523  3342220  3189395  2962846  2590605\n",
      "  2391198  1846751  1785388  1672833  1554750  1228061  1125772   735383\n",
      "   728379   544569   430870]\n",
      "12970639.481481481\n",
      "3189395.0\n"
     ]
    }
   ],
   "source": [
    "industry_types = np.array([x.total_revenue for x in industries])\n",
    "# Equivalent to\n",
    "industry_types_long_way = []\n",
    "for x in industries:\n",
    "    industry_types_long_way.append(x.total_revenue)\n",
    "    \n",
    "print(industry_types)\n",
    "print(np.mean(industry_types))\n",
    "print(np.median(industry_types))"
   ]
  },
  {
   "cell_type": "code",
   "execution_count": 24,
   "metadata": {},
   "outputs": [
    {
     "name": "stdout",
     "output_type": "stream",
     "text": [
      "12475482.461538462\n"
     ]
    }
   ],
   "source": [
    "total = 0\n",
    "count = 0\n",
    "for industry in industries:\n",
    "    if(industry.total_revenue % 2 == 0):\n",
    "        total += industry.total_revenue\n",
    "        count += 1\n",
    "total = total / count\n",
    "print(total)"
   ]
  },
  {
   "cell_type": "code",
   "execution_count": 45,
   "metadata": {},
   "outputs": [
    {
     "name": "stdout",
     "output_type": "stream",
     "text": [
      "{'Retail', 'Agriculture', 'Government', 'Construction', 'Manufacturing', 'Consumer Services', 'Business Services'}\n"
     ]
    }
   ],
   "source": [
    "unique_industry_types = set([x.industry for x in industries])\n",
    "print(unique_industry_types)"
   ]
  },
  {
   "cell_type": "code",
   "execution_count": null,
   "metadata": {},
   "outputs": [],
   "source": [
    "for industry_type in unique_industry_types:\n",
    "    correlated_industries = [x.subindustry for x in industries]"
   ]
  }
 ],
 "metadata": {
  "kernelspec": {
   "display_name": "Python 3",
   "language": "python",
   "name": "python3"
  },
  "language_info": {
   "codemirror_mode": {
    "name": "ipython",
    "version": 3
   },
   "file_extension": ".py",
   "mimetype": "text/x-python",
   "name": "python",
   "nbconvert_exporter": "python",
   "pygments_lexer": "ipython3",
   "version": "3.11.1"
  },
  "orig_nbformat": 4
 },
 "nbformat": 4,
 "nbformat_minor": 2
}
