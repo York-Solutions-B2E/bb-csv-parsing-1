{
 "cells": [
  {
   "cell_type": "code",
   "execution_count": 64,
   "metadata": {},
   "outputs": [],
   "source": [
    "# Import CSV for parsing our data, numpy for math\n",
    "import csv\n",
    "import numpy as np"
   ]
  },
  {
   "cell_type": "code",
   "execution_count": 65,
   "metadata": {},
   "outputs": [],
   "source": [
    "# Basic Data Model - Our objects will store relevant data\n",
    "class IndustryModel:\n",
    "    def __init__(self,industry,subindustry,total_revenue):\n",
    "        self.industry = industry\n",
    "        self.subindustry = subindustry\n",
    "        self.total_revenue = total_revenue\n",
    "    def __str__(self):\n",
    "        return self.industry + \" : \" + self.subindustry + \" $\" + str(self.total_revenue)"
   ]
  },
  {
   "cell_type": "code",
   "execution_count": 66,
   "metadata": {},
   "outputs": [],
   "source": [
    "# List to hold all of our objects\n",
    "industries = []\n",
    "# With statement to open/close our file automatically\n",
    "with open('data.csv','r') as csv_file:\n",
    "    #csv.reader will go through the file line by line\n",
    "    reader = csv.reader(csv_file)\n",
    "    line_count = 0\n",
    "    #for each line in our file\n",
    "    for row in reader:\n",
    "        #Ignore the header row\n",
    "        if line_count != 0:\n",
    "            # create one object for each row\n",
    "            rowModel = IndustryModel(row[0],row[1],int(row[2]))\n",
    "            # add industry object to our list\n",
    "            industries.append(rowModel)\n",
    "        line_count += 1"
   ]
  },
  {
   "cell_type": "code",
   "execution_count": 67,
   "metadata": {},
   "outputs": [
    {
     "name": "stdout",
     "output_type": "stream",
     "text": [
      "Manufacturing : Consumer Electronics & Computers Retail $86153757\n",
      "Retail : Automobile Dealers $56803298\n",
      "Retail : Grocery Retail $54269326\n",
      "Retail : Department Stores, Shopping Centers & Superstores $43550263\n",
      "Retail : Apparel & Accessories Retail $20639533\n",
      "Retail : Flowers, Gifts & Specialty Stores $17827120\n",
      "Manufacturing : Automobile Dealers $15383793\n",
      "Retail : Home Improvement & Hardware Retail $8162494\n",
      "Retail : Vitamins, Supplements & Health Stores $5895492\n",
      "Retail : Pet Products $5630498\n",
      "Manufacturing : Toys & Games $5298149\n",
      "Business Services : Automobile Dealers $4464523\n",
      "Retail : Sporting & Recreational Equipment Retail $3342220\n",
      "Retail : Furniture $3189395\n",
      "Construction : Grocery Retail $2962846\n",
      "Manufacturing : Flowers, Gifts & Specialty Stores $2590605\n",
      "Manufacturing : Furniture $2391198\n",
      "Manufacturing : Jewelry & Watch Retail $1846751\n",
      "Construction : Home Improvement & Hardware Retail $1785388\n",
      "Agriculture : Grocery Retail $1672833\n",
      "Consumer Services : Automobile Dealers $1554750\n",
      "Retail : Convenience Stores, Gas Stations & Liquor Stores $1228061\n",
      "Retail : Jewelry & Watch Retail $1125772\n",
      "Manufacturing : Home Improvement & Hardware Retail $735383\n",
      "Government : Grocery Retail $728379\n",
      "Retail :  $544569\n",
      "Construction : Automobile Dealers $430870\n"
     ]
    }
   ],
   "source": [
    "for industry in industries:\n",
    "    print(industry)"
   ]
  },
  {
   "cell_type": "code",
   "execution_count": 68,
   "metadata": {},
   "outputs": [
    {
     "name": "stdout",
     "output_type": "stream",
     "text": [
      "[86153757 56803298 54269326 43550263 20639533 17827120 15383793  8162494\n",
      "  5895492  5630498  5298149  4464523  3342220  3189395  2962846  2590605\n",
      "  2391198  1846751  1785388  1672833  1554750  1228061  1125772   735383\n",
      "   728379   544569   430870]\n",
      "12970639.481481481\n",
      "3189395.0\n"
     ]
    }
   ],
   "source": [
    "#list comprehension method of making a list with all total revenues\n",
    "industry_revenues = np.array([x.total_revenue for x in industries])\n",
    "# Equivalent to\n",
    "industry_revenues_long_way = []\n",
    "for x in industries:\n",
    "    industry_revenues_long_way.append(x.total_revenue)\n",
    "    \n",
    "print(industry_revenues)\n",
    "print(np.mean(industry_revenues))\n",
    "print(np.median(industry_revenues))"
   ]
  },
  {
   "cell_type": "code",
   "execution_count": 69,
   "metadata": {},
   "outputs": [
    {
     "name": "stdout",
     "output_type": "stream",
     "text": [
      "12475482.461538462\n"
     ]
    }
   ],
   "source": [
    "# Calculate the va erage revenue of industries with an even amount of revenue\n",
    "total = 0\n",
    "count = 0\n",
    "for industry in industries:\n",
    "    if(industry.total_revenue % 2 == 0):\n",
    "        total += industry.total_revenue\n",
    "        count += 1\n",
    "total = total / count\n",
    "print(total)"
   ]
  },
  {
   "cell_type": "code",
   "execution_count": 70,
   "metadata": {},
   "outputs": [
    {
     "name": "stdout",
     "output_type": "stream",
     "text": [
      "{'Retail', 'Agriculture', 'Government', 'Construction', 'Manufacturing', 'Consumer Services', 'Business Services'}\n"
     ]
    }
   ],
   "source": [
    "# Create a Set of all industries\n",
    "unique_industry_types = set([x.industry for x in industries])\n",
    "print(unique_industry_types)"
   ]
  },
  {
   "cell_type": "code",
   "execution_count": 71,
   "metadata": {},
   "outputs": [
    {
     "name": "stdout",
     "output_type": "stream",
     "text": [
      "{'Retail': ['Automobile Dealers', 'Grocery Retail', 'Department Stores, Shopping Centers & Superstores', 'Apparel & Accessories Retail', 'Flowers, Gifts & Specialty Stores', 'Home Improvement & Hardware Retail', 'Vitamins, Supplements & Health Stores', 'Pet Products', 'Sporting & Recreational Equipment Retail', 'Furniture', 'Convenience Stores, Gas Stations & Liquor Stores', 'Jewelry & Watch Retail', ''], 'Agriculture': ['Grocery Retail'], 'Government': ['Grocery Retail'], 'Construction': ['Grocery Retail', 'Home Improvement & Hardware Retail', 'Automobile Dealers'], 'Manufacturing': ['Consumer Electronics & Computers Retail', 'Automobile Dealers', 'Toys & Games', 'Flowers, Gifts & Specialty Stores', 'Furniture', 'Jewelry & Watch Retail', 'Home Improvement & Hardware Retail'], 'Consumer Services': ['Automobile Dealers'], 'Business Services': ['Automobile Dealers']}\n"
     ]
    }
   ],
   "source": [
    "# Create an empty dictionary\n",
    "industry_map = {\n",
    "\n",
    "}\n",
    "#loop through our industry types and fill in our dictionary with all subindustries\n",
    "for industry_type in unique_industry_types:\n",
    "    correlated_industries = [x.subindustry for x in industries if x.industry == industry_type]\n",
    "    industry_map[industry_type] = correlated_industries\n",
    "print(industry_map)\n"
   ]
  },
  {
   "cell_type": "code",
   "execution_count": 84,
   "metadata": {},
   "outputs": [
    {
     "name": "stdout",
     "output_type": "stream",
     "text": [
      "{'Retail': 17092926.23, 'Agriculture': 1672833.0, 'Government': 728379.0, 'Construction': 1726368.0, 'Manufacturing': 16342805.14, 'Consumer Services': 1554750.0, 'Business Services': 4464523.0}\n",
      "{'Agriculture': 1672833.0, 'Business Services': 4464523.0, 'Construction': 1726368.0, 'Consumer Services': 1554750.0, 'Government': 728379.0, 'Manufacturing': 16342805.14, 'Retail': 17092926.23}\n"
     ]
    }
   ],
   "source": [
    "# Goal : Calculate the average revenue for each industry\n",
    "industry_revenue_map = {}\n",
    "for industry_type in unique_industry_types:\n",
    "    industry_revenue_list = np.array([x.total_revenue for x in industries if x.industry == industry_type]) \n",
    "    industry_revenue_map[industry_type] = np.round(np.average(industry_revenue_list),2)\n",
    "print(industry_revenue_map)\n",
    "\n",
    "print(dict(sorted(industry_revenue_map.items())))\n"
   ]
  }
 ],
 "metadata": {
  "kernelspec": {
   "display_name": "Python 3",
   "language": "python",
   "name": "python3"
  },
  "language_info": {
   "codemirror_mode": {
    "name": "ipython",
    "version": 3
   },
   "file_extension": ".py",
   "mimetype": "text/x-python",
   "name": "python",
   "nbconvert_exporter": "python",
   "pygments_lexer": "ipython3",
   "version": "3.11.1"
  },
  "orig_nbformat": 4
 },
 "nbformat": 4,
 "nbformat_minor": 2
}
